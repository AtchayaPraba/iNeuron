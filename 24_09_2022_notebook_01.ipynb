{
  "nbformat": 4,
  "nbformat_minor": 0,
  "metadata": {
    "colab": {
      "provenance": [],
      "collapsed_sections": [],
      "authorship_tag": "ABX9TyMX+vZzAsrd97Dms6jtukYI",
      "include_colab_link": true
    },
    "kernelspec": {
      "name": "python3",
      "display_name": "Python 3"
    },
    "language_info": {
      "name": "python"
    }
  },
  "cells": [
    {
      "cell_type": "markdown",
      "metadata": {
        "id": "view-in-github",
        "colab_type": "text"
      },
      "source": [
        "<a href=\"https://colab.research.google.com/github/AtchayaPraba/iNeuron/blob/main/24_09_2022_notebook_01.ipynb\" target=\"_parent\"><img src=\"https://colab.research.google.com/assets/colab-badge.svg\" alt=\"Open In Colab\"/></a>"
      ]
    },
    {
      "cell_type": "markdown",
      "source": [
        "### \"print\" Function"
      ],
      "metadata": {
        "id": "wsnYZpSt8Ux4"
      }
    },
    {
      "cell_type": "code",
      "execution_count": null,
      "metadata": {
        "colab": {
          "base_uri": "https://localhost:8080/"
        },
        "id": "E_UIpUV74FJh",
        "outputId": "4aebd422-2508-446f-9472-6d4f106969a4"
      },
      "outputs": [
        {
          "output_type": "stream",
          "name": "stdout",
          "text": [
            "Hello Neurons\n"
          ]
        }
      ],
      "source": [
        "print(\"Hello Neurons\")"
      ]
    },
    {
      "cell_type": "code",
      "source": [
        "print(\"greetings from iNeuron\")\n",
        "print(\"Good Evening\")"
      ],
      "metadata": {
        "colab": {
          "base_uri": "https://localhost:8080/"
        },
        "id": "4qS-QrKp4x4D",
        "outputId": "662ee75e-5275-4337-d247-6ba511f1bc15"
      },
      "execution_count": null,
      "outputs": [
        {
          "output_type": "stream",
          "name": "stdout",
          "text": [
            "greetings from iNeuron\n",
            "Good Evening\n"
          ]
        }
      ]
    },
    {
      "cell_type": "code",
      "source": [
        "print('greetings from iNeuron')\n",
        "print(\"Good Evening\")"
      ],
      "metadata": {
        "colab": {
          "base_uri": "https://localhost:8080/"
        },
        "id": "XNRkn7RL5Qbp",
        "outputId": "0ce521c8-2c0f-44a4-b54b-095f3db11ef3"
      },
      "execution_count": null,
      "outputs": [
        {
          "output_type": "stream",
          "name": "stdout",
          "text": [
            "greetings from iNeuron\n",
            "Good Evening\n"
          ]
        }
      ]
    },
    {
      "cell_type": "code",
      "source": [
        "print(\"\"\"\n",
        "greetings from iNeuron)\n",
        "Good Evening\n",
        "\"\"\")"
      ],
      "metadata": {
        "colab": {
          "base_uri": "https://localhost:8080/"
        },
        "id": "JyRkGV3C5Wt9",
        "outputId": "9787c6ab-61e4-424d-925d-df1417ec3829"
      },
      "execution_count": null,
      "outputs": [
        {
          "output_type": "stream",
          "name": "stdout",
          "text": [
            "\n",
            "greetings from iNeuron)\n",
            "Good Evening\n",
            "\n"
          ]
        }
      ]
    },
    {
      "cell_type": "code",
      "source": [
        "\"hello\"\n",
        "print(\"Good Evening\")"
      ],
      "metadata": {
        "colab": {
          "base_uri": "https://localhost:8080/"
        },
        "id": "4jyDZnGh5yE6",
        "outputId": "c9367be0-c97b-4853-dde5-1e9398480b44"
      },
      "execution_count": null,
      "outputs": [
        {
          "output_type": "stream",
          "name": "stdout",
          "text": [
            "Good Evening\n"
          ]
        }
      ]
    },
    {
      "cell_type": "code",
      "source": [
        "print(\"\"\"Hello\n",
        "Good Evening\n",
        "from \n",
        "India\n",
        "\"\"\")"
      ],
      "metadata": {
        "colab": {
          "base_uri": "https://localhost:8080/"
        },
        "id": "yDgR55Nb6u94",
        "outputId": "c56f7891-1eea-4c9a-b5aa-9ecddfaef08f"
      },
      "execution_count": null,
      "outputs": [
        {
          "output_type": "stream",
          "name": "stdout",
          "text": [
            "Hello\n",
            "Good Evening\n",
            "from \n",
            "India\n",
            "\n"
          ]
        }
      ]
    },
    {
      "cell_type": "markdown",
      "source": [
        "### Comments"
      ],
      "metadata": {
        "id": "LSBqNa3X8IxJ"
      }
    },
    {
      "cell_type": "code",
      "source": [
        "# Welcome message \n",
        "print(\"Welcome Students\")"
      ],
      "metadata": {
        "colab": {
          "base_uri": "https://localhost:8080/"
        },
        "id": "Lz1AcWkW7ERx",
        "outputId": "19dc32b6-fec4-4022-8549-01a5e7098b2a"
      },
      "execution_count": null,
      "outputs": [
        {
          "output_type": "stream",
          "name": "stdout",
          "text": [
            "Welcome Students\n"
          ]
        }
      ]
    },
    {
      "cell_type": "markdown",
      "source": [
        "### Multiline Comments"
      ],
      "metadata": {
        "id": "1WbsNF6U8PLj"
      }
    },
    {
      "cell_type": "code",
      "source": [
        "\"\"\"\n",
        "Say Hi\n",
        "to the Students\n",
        "\"\"\"\n",
        "print(\"Hi Students\")"
      ],
      "metadata": {
        "colab": {
          "base_uri": "https://localhost:8080/"
        },
        "id": "Ykw7oYyH7iog",
        "outputId": "06999a38-f291-412d-c4e5-658284b09fc5"
      },
      "execution_count": null,
      "outputs": [
        {
          "output_type": "stream",
          "name": "stdout",
          "text": [
            "Hi Students\n"
          ]
        }
      ]
    },
    {
      "cell_type": "markdown",
      "source": [
        "### Exceptional Cases in \"print\" Statement"
      ],
      "metadata": {
        "id": "jBGadfFP9Ho6"
      }
    },
    {
      "cell_type": "code",
      "source": [
        "# Case 1\n",
        "print(\"My name is 'Akshaya'\")\n",
        "# Case 2\n",
        "print('My name is \"Akshaya\"')\n",
        "# Case 3\n",
        "print(\"\"\"My name is 'Akshaya'\"\"\")\n",
        "# Case 3: Using escape character -> \\\n",
        "print(\"\"\"My name is \"Akshaya\\\"\"\"\")\n",
        "print('''My name is 'Akshaya\\'''')"
      ],
      "metadata": {
        "colab": {
          "base_uri": "https://localhost:8080/"
        },
        "id": "e8Cz41B088sG",
        "outputId": "2e6d95c2-89af-4ab6-c67e-a5424c9f0e3b"
      },
      "execution_count": null,
      "outputs": [
        {
          "output_type": "stream",
          "name": "stdout",
          "text": [
            "My name is 'Akshaya'\n",
            "My name is \"Akshaya\"\n",
            "My name is 'Akshaya'\n",
            "My name is \"Akshaya\"\n",
            "My name is 'Akshaya'\n"
          ]
        }
      ]
    },
    {
      "cell_type": "code",
      "source": [
        "print(123+245) # Sum of two numbers\n",
        "print(123*245) # Product of two numbers\n",
        "print(123/245) # Division of two numbers\n",
        "print(123**2) # Square of a number"
      ],
      "metadata": {
        "colab": {
          "base_uri": "https://localhost:8080/"
        },
        "id": "Gg0aontW9qz4",
        "outputId": "e1f85fc9-641a-4e6c-f938-c395480e3c0a"
      },
      "execution_count": null,
      "outputs": [
        {
          "output_type": "stream",
          "name": "stdout",
          "text": [
            "368\n",
            "30135\n",
            "0.5020408163265306\n",
            "15129\n"
          ]
        }
      ]
    },
    {
      "cell_type": "code",
      "source": [],
      "metadata": {
        "id": "ap9r3jmr-ho1"
      },
      "execution_count": null,
      "outputs": []
    }
  ]
}